{
 "cells": [
  {
   "cell_type": "markdown",
   "metadata": {},
   "source": [
    "# Mapping a Title to a Single O\\*NET Code\n",
    "***\n",
    "The purpose of this walkthrough is to demonstrate one way to use Emsi's Titles API in combination with the Job Postings API to create a mapping of Emsi titles to its most common O\\*NET code."
   ]
  },
  {
   "cell_type": "code",
   "execution_count": 2,
   "metadata": {},
   "outputs": [],
   "source": [
    "# import the libraries\n",
    "from EmsiApiPy import EmsiTitlesConnection, UnitedStatesPostingsConnection\n",
    "\n",
    "# for pretty printing\n",
    "import json\n",
    "\n",
    "titles_conn = EmsiTitlesConnection()\n",
    "jpa_conn = UnitedStatesPostingsConnection()"
   ]
  },
  {
   "cell_type": "code",
   "execution_count": 9,
   "metadata": {},
   "outputs": [
    {
     "name": "stdout",
     "output_type": "stream",
     "text": [
      "{\n",
      "  \"id\": \"ET4A446A1A5F6142AD\",\n",
      "  \"name\": \".NET Application Architect\",\n",
      "  \"mapping\": {\n",
      "    \"skills\": [\n",
      "      {\n",
      "        \"id\": \"KS1200B62W5ZF38RJ7TD\",\n",
      "        \"name\": \".NET Framework\"\n",
      "      }\n",
      "    ],\n",
      "    \"socs\": [\n",
      "      {\n",
      "        \"id\": \"15-1256\",\n",
      "        \"name\": \"Software Developers and Software Quality Assurance Analysts and Testers\"\n",
      "      }\n",
      "    ]\n",
      "  }\n",
      "}\n"
     ]
    }
   ],
   "source": [
    "# first, we'll get a list of all the titles in the emsi library and their default mapping to a SOC\n",
    "data = titles_conn.get_list_all_titles(fields = ['id', 'name', 'mapping'])\n",
    "\n",
    "# we'll print just the first record\n",
    "print(json.dumps(data[0], indent = 2))"
   ]
  },
  {
   "cell_type": "code",
   "execution_count": 11,
   "metadata": {
    "scrolled": true
   },
   "outputs": [
    {
     "data": {
      "text/html": [
       "<div>\n",
       "<style scoped>\n",
       "    .dataframe tbody tr th:only-of-type {\n",
       "        vertical-align: middle;\n",
       "    }\n",
       "\n",
       "    .dataframe tbody tr th {\n",
       "        vertical-align: top;\n",
       "    }\n",
       "\n",
       "    .dataframe thead th {\n",
       "        text-align: right;\n",
       "    }\n",
       "</style>\n",
       "<table border=\"1\" class=\"dataframe\">\n",
       "  <thead>\n",
       "    <tr style=\"text-align: right;\">\n",
       "      <th></th>\n",
       "      <th>onet</th>\n",
       "      <th>unique_postings</th>\n",
       "    </tr>\n",
       "  </thead>\n",
       "  <tbody>\n",
       "    <tr>\n",
       "      <th>0</th>\n",
       "      <td>15-1132.00</td>\n",
       "      <td>28</td>\n",
       "    </tr>\n",
       "  </tbody>\n",
       "</table>\n",
       "</div>"
      ],
      "text/plain": [
       "         onet  unique_postings\n",
       "0  15-1132.00               28"
      ]
     },
     "execution_count": 11,
     "metadata": {},
     "output_type": "execute_result"
    }
   ],
   "source": [
    "# .NET Application Architect maps to a single occupation (SOC) code in the Emsi Titles library\n",
    "# We can use this relationship to find the top O*NET that this title also belongs to\n",
    "payload = {\n",
    "    \"filter\": {\n",
    "        \"when\": \"active\",\n",
    "        \"title\": [\"ET4A446A1A5F6142AD\"],\n",
    "        \"soc5\": [\"15-1256\"]\n",
    "    },\n",
    "    \"rank\": {\n",
    "        \"by\": \"unique_postings\"\n",
    "    }\n",
    "}\n",
    "\n",
    "df = jpa_conn.post_rankings_df(\n",
    "    \"onet\", # we've used title and soc as a filter, but we want to get the top O*NET code\n",
    "    payload = payload,  # the query to the API\n",
    "    querystring = {\n",
    "        \"title_version\": \"emsi\",  # the title version we're using (emsi is the latest version)\n",
    "        \"soc_version\": \"soc_emsi_2019\"   # the occupation version (latest is 2019)\n",
    "    }  \n",
    ")\n",
    "\n",
    "df.head()"
   ]
  },
  {
   "cell_type": "markdown",
   "metadata": {},
   "source": [
    "***\n",
    "### Summary\n",
    "As we can see from the example, the SOC for .NET Application Architect is \"15-1256 (Software Developers)\", but when we expand this to the O\\*NET level, we find that the specific code is for \"15-1132.00 (Software Developers, Applications)\""
   ]
  }
 ],
 "metadata": {
  "kernelspec": {
   "display_name": "Python 3",
   "language": "python",
   "name": "python3"
  },
  "language_info": {
   "codemirror_mode": {
    "name": "ipython",
    "version": 3
   },
   "file_extension": ".py",
   "mimetype": "text/x-python",
   "name": "python",
   "nbconvert_exporter": "python",
   "pygments_lexer": "ipython3",
   "version": "3.7.5"
  }
 },
 "nbformat": 4,
 "nbformat_minor": 4
}
