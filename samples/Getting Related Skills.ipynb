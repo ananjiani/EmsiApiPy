{
 "cells": [
  {
   "cell_type": "markdown",
   "metadata": {},
   "source": [
    "## Related Skills\n",
    "***\n",
    "The goal of this workflow document is to demonstrate a way to use Emsi's Skills API to get skills which are related to each other."
   ]
  },
  {
   "cell_type": "code",
   "execution_count": 1,
   "metadata": {},
   "outputs": [],
   "source": [
    "# import the libraries\n",
    "from EmsiApiPy import SkillsClassificationConnection\n",
    "\n",
    "conn = SkillsClassificationConnection()"
   ]
  },
  {
   "cell_type": "code",
   "execution_count": 3,
   "metadata": {},
   "outputs": [
    {
     "data": {
      "text/plain": [
       "[{'id': 'KS125LS6N7WP4S6SFTCK',\n",
       "  'infoUrl': 'https://skills.emsidata.com/skills/KS125LS6N7WP4S6SFTCK',\n",
       "  'name': 'Python (Programming Language)',\n",
       "  'type': {'id': 'ST1', 'name': 'Hard Skill'}},\n",
       " {'id': 'KSGWPO6DSN70GRY20JFT',\n",
       "  'infoUrl': 'https://skills.emsidata.com/skills/KSGWPO6DSN70GRY20JFT',\n",
       "  'name': 'Pandas (Python Package)',\n",
       "  'type': {'id': 'ST1', 'name': 'Hard Skill'}},\n",
       " {'id': 'KSKLJ9RJDL8SKUXFMELZ',\n",
       "  'infoUrl': 'https://skills.emsidata.com/skills/KSKLJ9RJDL8SKUXFMELZ',\n",
       "  'name': 'Luigi (Python Package)',\n",
       "  'type': {'id': 'ST1', 'name': 'Hard Skill'}},\n",
       " {'id': 'KS128866SGR2RY0R5T83',\n",
       "  'infoUrl': 'https://skills.emsidata.com/skills/KS128866SGR2RY0R5T83',\n",
       "  'name': 'Python Tools For Visual Studio',\n",
       "  'type': {'id': 'ST1', 'name': 'Hard Skill'}},\n",
       " {'id': 'KS128866G1TLTKT1RNZZ',\n",
       "  'infoUrl': 'https://skills.emsidata.com/skills/KS128866G1TLTKT1RNZZ',\n",
       "  'name': 'Python Server Pages',\n",
       "  'type': {'id': 'ST1', 'name': 'Hard Skill'}},\n",
       " {'id': 'KS128865YTL4WZYR5T8G',\n",
       "  'infoUrl': 'https://skills.emsidata.com/skills/KS128865YTL4WZYR5T8G',\n",
       "  'name': 'Python Imaging Libraries',\n",
       "  'type': {'id': 'ST1', 'name': 'Hard Skill'}}]"
      ]
     },
     "execution_count": 3,
     "metadata": {},
     "output_type": "execute_result"
    }
   ],
   "source": [
    "# first, let's search for a skill. Then we'll find the related skills\n",
    "conn.get_list_all_skills(q=\"Python\")[\"data\"]"
   ]
  },
  {
   "cell_type": "code",
   "execution_count": 4,
   "metadata": {},
   "outputs": [
    {
     "data": {
      "text/plain": [
       "{'attributions': [{'name': 'Wikipedia',\n",
       "   'text': 'Wikipedia extracts are distributed under the CC BY-SA license (https://creativecommons.org/licenses/by-sa/3.0/)'}],\n",
       " 'data': [{'id': 'KS120FG6YP8PQYYNQY9B', 'name': 'Amazon Web Services'},\n",
       "  {'id': 'KS120076FGP5WGWYMP0F', 'name': 'Java (Programming Language)'},\n",
       "  {'id': 'KS122VT6S2JJ5C5D80NF', 'name': 'Linux'},\n",
       "  {'id': 'KS124DQ6JX0NX9DBFDM8', 'name': 'R (Programming Language)'},\n",
       "  {'id': 'KS7G0C36YW29VS8KPC05', 'name': 'Scripting'}]}"
      ]
     },
     "execution_count": 4,
     "metadata": {},
     "output_type": "execute_result"
    }
   ],
   "source": [
    "# let's find the skills related to \"Python (Programming Language)\"\"\n",
    "conn.post_find_related_skills(\n",
    "    [\"KS125LS6N7WP4S6SFTCK\"],  # the id of the skill desired\n",
    "    limit = 5,  # the number of related skills to get back\n",
    "    fields = ['id', 'name']  # the fields describing the skill\n",
    ")"
   ]
  },
  {
   "cell_type": "code",
   "execution_count": 5,
   "metadata": {},
   "outputs": [
    {
     "data": {
      "text/plain": [
       "{'attributions': [{'name': 'Wikipedia',\n",
       "   'text': 'Wikipedia extracts are distributed under the CC BY-SA license (https://creativecommons.org/licenses/by-sa/3.0/)'}],\n",
       " 'data': [{'id': 'KS7LO8P3MXB93R3C9RWL', 'name': 'Data Science'},\n",
       "  {'id': 'KS1261Z68KSKR1X31KS3', 'name': 'Machine Learning'},\n",
       "  {'id': 'KS4409D76NW1S5LNCL18', 'name': 'SAS (Software)'},\n",
       "  {'id': 'KS440Y975RD841M02V3S', 'name': 'Statistics'},\n",
       "  {'id': 'KS441626TDSV2J6GBB86',\n",
       "   'name': 'Tableau (Business Intelligence Software)'}]}"
      ]
     },
     "execution_count": 5,
     "metadata": {},
     "output_type": "execute_result"
    }
   ],
   "source": [
    "# next, let's find the skills related to python and one of its neighbors\n",
    "conn.post_find_related_skills(\n",
    "    [\n",
    "        \"KS125LS6N7WP4S6SFTCK\",  # Python (Programming Language)\n",
    "        \"KS124DQ6JX0NX9DBFDM8\"   # R (Programming Language)\n",
    "    ],\n",
    "    limit = 5,  # the number of related skills to get back\n",
    "    fields = ['id', 'name']  # the fields describing the skill\n",
    ")"
   ]
  },
  {
   "cell_type": "code",
   "execution_count": 6,
   "metadata": {},
   "outputs": [
    {
     "data": {
      "text/plain": [
       "{'attributions': [{'name': 'Wikipedia',\n",
       "   'text': 'Wikipedia extracts are distributed under the CC BY-SA license (https://creativecommons.org/licenses/by-sa/3.0/)'}],\n",
       " 'data': [{'id': 'KS120FG6YP8PQYYNQY9B', 'name': 'Amazon Web Services'},\n",
       "  {'id': 'KS1219W70LY1GXZDSKW5', 'name': 'C++ (Programming Language)'},\n",
       "  {'id': 'ESA5839C44D0970CF79F', 'name': 'Go (Programming Language)'},\n",
       "  {'id': 'ESD07FEE22E7EC094EB8', 'name': 'Ruby (Programming Language)'},\n",
       "  {'id': 'KS440B06L35CZZ8SMZJN', 'name': 'Scala (Programming Language)'}]}"
      ]
     },
     "execution_count": 6,
     "metadata": {},
     "output_type": "execute_result"
    }
   ],
   "source": [
    "# the above example will be different if we use a different set of skills as well\n",
    "conn.post_find_related_skills(\n",
    "    [\n",
    "        \"KS125LS6N7WP4S6SFTCK\",  # Python (Programming Language)\n",
    "        \"KS120076FGP5WGWYMP0F\"   # Java (Programming Language)\n",
    "    ],\n",
    "    limit = 5,  # the number of related skills to get back\n",
    "    fields = ['id', 'name']  # the fields describing the skill\n",
    ")"
   ]
  },
  {
   "cell_type": "markdown",
   "metadata": {},
   "source": [
    "From the above workflow, we can see how to get skills related to a single skill, or even to a list of skills as input."
   ]
  }
 ],
 "metadata": {
  "kernelspec": {
   "display_name": "Python 3",
   "language": "python",
   "name": "python3"
  },
  "language_info": {
   "codemirror_mode": {
    "name": "ipython",
    "version": 3
   },
   "file_extension": ".py",
   "mimetype": "text/x-python",
   "name": "python",
   "nbconvert_exporter": "python",
   "pygments_lexer": "ipython3",
   "version": "3.7.5"
  }
 },
 "nbformat": 4,
 "nbformat_minor": 4
}
