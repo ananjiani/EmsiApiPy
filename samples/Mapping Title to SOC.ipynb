{
 "cells": [
  {
   "cell_type": "markdown",
   "metadata": {},
   "source": [
    "# Mapping a Title to a Single SOC Code\n",
    "***\n",
    "The purpose of this walkthrough is to demonstrate one way to use Emsi's Titles API in combination with the Job Postings API to create a mapping of Emsi titles to its most common SOC code."
   ]
  },
  {
   "cell_type": "code",
   "execution_count": 1,
   "metadata": {},
   "outputs": [],
   "source": [
    "# import the libraries\n",
    "from EmsiApiPy import EmsiTitlesConnection, UnitedStatesPostingsConnection\n",
    "\n",
    "# for pretty printing\n",
    "import json\n",
    "\n",
    "titles_conn = EmsiTitlesConnection()\n",
    "jpa_conn = UnitedStatesPostingsConnection()"
   ]
  },
  {
   "cell_type": "code",
   "execution_count": 2,
   "metadata": {},
   "outputs": [
    {
     "name": "stdout",
     "output_type": "stream",
     "text": [
      "[\n",
      "  {\n",
      "    \"id\": \"ET4A446A1A5F6142AD\",\n",
      "    \"name\": \".NET Application Architect\",\n",
      "    \"mapping\": {\n",
      "      \"skills\": [\n",
      "        {\n",
      "          \"id\": \"KS1200B62W5ZF38RJ7TD\",\n",
      "          \"name\": \".NET Framework\"\n",
      "        },\n",
      "        {\n",
      "          \"id\": \"KS120KY6S8N6WRLSSZL2\",\n",
      "          \"name\": \"Applications Architecture\"\n",
      "        }\n",
      "      ],\n",
      "      \"socs\": [\n",
      "        {\n",
      "          \"id\": \"15-1256\",\n",
      "          \"name\": \"Software Developers and Software Quality Assurance Analysts and Testers\"\n",
      "        }\n",
      "      ]\n",
      "    }\n",
      "  },\n",
      "  {\n",
      "    \"id\": \"ET2636514E20FBBF10\",\n",
      "    \"name\": \".NET Application Developer\",\n",
      "    \"mapping\": {\n",
      "      \"skills\": [\n",
      "        {\n",
      "          \"id\": \"KS1200B62W5ZF38RJ7TD\",\n",
      "          \"name\": \".NET Framework\"\n",
      "        }\n",
      "      ],\n",
      "      \"socs\": [\n",
      "        {\n",
      "          \"id\": \"15-1256\",\n",
      "          \"name\": \"Software Developers and Software Quality Assurance Analysts and Testers\"\n",
      "        }\n",
      "      ]\n",
      "    }\n",
      "  }\n",
      "]\n"
     ]
    }
   ],
   "source": [
    "# first, we'll get a list of all the titles in the emsi library and their default mapping to a SOC\n",
    "data = titles_conn.get_list_all_titles(fields = ['id', 'name', 'mapping'])\n",
    "\n",
    "# we'll print just the first two records\n",
    "print(json.dumps(data[:2], indent = 2))"
   ]
  },
  {
   "cell_type": "code",
   "execution_count": 3,
   "metadata": {},
   "outputs": [
    {
     "name": "stdout",
     "output_type": "stream",
     "text": [
      "5848\n"
     ]
    }
   ],
   "source": [
    "# As we can see, the first two titles map simply to only one occupation code.\n",
    "# let's find an example that has more than one\n",
    "multiples = [record for record in data if len(record['mapping']['socs']) > 1]\n",
    "print(len(multiples))"
   ]
  },
  {
   "cell_type": "code",
   "execution_count": 4,
   "metadata": {},
   "outputs": [
    {
     "name": "stdout",
     "output_type": "stream",
     "text": [
      "{\n",
      "  \"id\": \"ET00CAA8CEEDAA95C1\",\n",
      "  \"name\": \".NET Azure Developer\",\n",
      "  \"mapping\": {\n",
      "    \"skills\": [\n",
      "      {\n",
      "        \"id\": \"KS1200B62W5ZF38RJ7TD\",\n",
      "        \"name\": \".NET Framework\"\n",
      "      },\n",
      "      {\n",
      "        \"id\": \"KS120V86MZWV9Z9LKQY3\",\n",
      "        \"name\": \"Microsoft Azure\"\n",
      "      }\n",
      "    ],\n",
      "    \"socs\": [\n",
      "      {\n",
      "        \"id\": \"15-1256\",\n",
      "        \"name\": \"Software Developers and Software Quality Assurance Analysts and Testers\"\n",
      "      },\n",
      "      {\n",
      "        \"id\": \"15-1257\",\n",
      "        \"name\": \"Web Developers and Digital Interface Designers\"\n",
      "      }\n",
      "    ]\n",
      "  }\n",
      "}\n"
     ]
    }
   ],
   "source": [
    "# So there are about 6k titles in Emsi's library that have more than one SOC mapped to them\n",
    "# here's the first one on the list\n",
    "print(json.dumps(multiples[0], indent = 2))"
   ]
  },
  {
   "cell_type": "code",
   "execution_count": 5,
   "metadata": {
    "scrolled": true
   },
   "outputs": [
    {
     "data": {
      "text/html": [
       "<div>\n",
       "<style scoped>\n",
       "    .dataframe tbody tr th:only-of-type {\n",
       "        vertical-align: middle;\n",
       "    }\n",
       "\n",
       "    .dataframe tbody tr th {\n",
       "        vertical-align: top;\n",
       "    }\n",
       "\n",
       "    .dataframe thead th {\n",
       "        text-align: right;\n",
       "    }\n",
       "</style>\n",
       "<table border=\"1\" class=\"dataframe\">\n",
       "  <thead>\n",
       "    <tr style=\"text-align: right;\">\n",
       "      <th></th>\n",
       "      <th>soc5</th>\n",
       "      <th>unique_postings</th>\n",
       "    </tr>\n",
       "  </thead>\n",
       "  <tbody>\n",
       "    <tr>\n",
       "      <th>0</th>\n",
       "      <td>15-1132</td>\n",
       "      <td>141</td>\n",
       "    </tr>\n",
       "    <tr>\n",
       "      <th>1</th>\n",
       "      <td>15-1199</td>\n",
       "      <td>51</td>\n",
       "    </tr>\n",
       "    <tr>\n",
       "      <th>2</th>\n",
       "      <td>15-1134</td>\n",
       "      <td>43</td>\n",
       "    </tr>\n",
       "    <tr>\n",
       "      <th>3</th>\n",
       "      <td>15-1131</td>\n",
       "      <td>28</td>\n",
       "    </tr>\n",
       "    <tr>\n",
       "      <th>4</th>\n",
       "      <td>99-9999</td>\n",
       "      <td>25</td>\n",
       "    </tr>\n",
       "  </tbody>\n",
       "</table>\n",
       "</div>"
      ],
      "text/plain": [
       "      soc5  unique_postings\n",
       "0  15-1132              141\n",
       "1  15-1199               51\n",
       "2  15-1134               43\n",
       "3  15-1131               28\n",
       "4  99-9999               25"
      ]
     },
     "execution_count": 5,
     "metadata": {},
     "output_type": "execute_result"
    }
   ],
   "source": [
    "# .NET Azure Developer maps to software developer and web developer\n",
    "# now we need to pick which one of the two would be more appropriate\n",
    "# the simplest way to do this is using the Job Postings API\n",
    "payload = {\n",
    "    \"filter\": {\n",
    "        \"when\": \"active\",\n",
    "        \"title\": [\"ET00CAA8CEEDAA95C1\"]  # the title for .NET Azure Developer\n",
    "    },\n",
    "    \"rank\": {\n",
    "        \"by\": \"unique_postings\"\n",
    "    }\n",
    "}\n",
    "\n",
    "df = jpa_conn.post_rankings_df(\n",
    "    \"soc5\", # the dimension we're ranking by\n",
    "    payload = payload,  # the query to the API\n",
    "    querystring = {\"title_version\": \"emsi\"}  # the title version we're using (emsi is the latest version)\n",
    ")\n",
    "\n",
    "df.head()"
   ]
  },
  {
   "cell_type": "markdown",
   "metadata": {},
   "source": [
    "***\n",
    "### Summary\n",
    "As we can see from the example, the top posted SOC for .NET Azure Developer is \"15-1132 (Software Developers)\". While Emsi generally considers a title to be a combination of job function (SOC) and their skills, this is the simplest way to take a title from Emsi's title library and map it back to a single occupation (SOC) code."
   ]
  }
 ],
 "metadata": {
  "kernelspec": {
   "display_name": "Python 3",
   "language": "python",
   "name": "python3"
  },
  "language_info": {
   "codemirror_mode": {
    "name": "ipython",
    "version": 3
   },
   "file_extension": ".py",
   "mimetype": "text/x-python",
   "name": "python",
   "nbconvert_exporter": "python",
   "pygments_lexer": "ipython3",
   "version": "3.7.5"
  }
 },
 "nbformat": 4,
 "nbformat_minor": 4
}
