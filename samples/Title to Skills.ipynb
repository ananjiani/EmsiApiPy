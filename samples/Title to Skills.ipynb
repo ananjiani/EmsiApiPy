{
 "cells": [
  {
   "cell_type": "markdown",
   "metadata": {},
   "source": [
    "## Title to Skills\n",
    "***\n",
    "The goal of this workflow is to demonstrate (using Emsi's Job Postings API) how to get back a list of skills related to a given job title."
   ]
  },
  {
   "cell_type": "code",
   "execution_count": 1,
   "metadata": {},
   "outputs": [],
   "source": [
    "# import the library and establish the connection\n",
    "from EmsiApiPy import UnitedStatesPostingsConnection\n",
    "\n",
    "conn = UnitedStatesPostingsConnection()"
   ]
  },
  {
   "cell_type": "code",
   "execution_count": 4,
   "metadata": {},
   "outputs": [
    {
     "data": {
      "text/plain": [
       "[{'id': 'ET3B93055220D592C8',\n",
       "  'name': 'Data Scientists',\n",
       "  'properties': {'singular_name': 'Data Scientist', 'unique_postings': 78341},\n",
       "  'score': 5992.0645},\n",
       " {'id': 'ET66EFA7BC3A32BB32',\n",
       "  'name': 'Managers/Data Scientists',\n",
       "  'properties': {'singular_name': 'Manager/Data Scientist',\n",
       "   'unique_postings': 26779},\n",
       "  'score': 153.67143},\n",
       " {'id': 'ET5F758027D5A9C1D1',\n",
       "  'name': 'Principal Data Scientists',\n",
       "  'properties': {'singular_name': 'Principal Data Scientist',\n",
       "   'unique_postings': 9179},\n",
       "  'score': 139.10365},\n",
       " {'id': 'ETB15B6675998124CE',\n",
       "  'name': 'Lead Data Scientists',\n",
       "  'properties': {'singular_name': 'Lead Data Scientist',\n",
       "   'unique_postings': 6565},\n",
       "  'score': 134.54364},\n",
       " {'id': 'ETB36F39C5B8DECF63',\n",
       "  'name': 'Associate Data Scientists',\n",
       "  'properties': {'singular_name': 'Associate Data Scientist',\n",
       "   'unique_postings': 4577},\n",
       "  'score': 129.63628}]"
      ]
     },
     "execution_count": 4,
     "metadata": {},
     "output_type": "execute_result"
    }
   ],
   "source": [
    "# first, we'll search for a job title by name\n",
    "conn.get_taxonomies(\n",
    "    facet = \"title\",  # the type of data we're searching for\n",
    "    q = \"Data Scientists\",  # the name of the title we want to search by\n",
    "    querystring={\n",
    "        \"title_version\": \"emsi\",  # we want to use Emsi's new job title library\n",
    "        \"limit\": 5   # let's keep it to 5 outputs from the API\n",
    "    }\n",
    ")"
   ]
  },
  {
   "cell_type": "code",
   "execution_count": 8,
   "metadata": {},
   "outputs": [
    {
     "data": {
      "text/html": [
       "<div>\n",
       "<style scoped>\n",
       "    .dataframe tbody tr th:only-of-type {\n",
       "        vertical-align: middle;\n",
       "    }\n",
       "\n",
       "    .dataframe tbody tr th {\n",
       "        vertical-align: top;\n",
       "    }\n",
       "\n",
       "    .dataframe thead th {\n",
       "        text-align: right;\n",
       "    }\n",
       "</style>\n",
       "<table border=\"1\" class=\"dataframe\">\n",
       "  <thead>\n",
       "    <tr style=\"text-align: right;\">\n",
       "      <th></th>\n",
       "      <th>skills_name</th>\n",
       "      <th>unique_postings</th>\n",
       "    </tr>\n",
       "  </thead>\n",
       "  <tbody>\n",
       "    <tr>\n",
       "      <th>0</th>\n",
       "      <td>Data Science</td>\n",
       "      <td>3817</td>\n",
       "    </tr>\n",
       "    <tr>\n",
       "      <th>1</th>\n",
       "      <td>Python (Programming Language)</td>\n",
       "      <td>2849</td>\n",
       "    </tr>\n",
       "    <tr>\n",
       "      <th>2</th>\n",
       "      <td>Machine Learning</td>\n",
       "      <td>2554</td>\n",
       "    </tr>\n",
       "    <tr>\n",
       "      <th>3</th>\n",
       "      <td>R (Programming Language)</td>\n",
       "      <td>2204</td>\n",
       "    </tr>\n",
       "    <tr>\n",
       "      <th>4</th>\n",
       "      <td>SQL (Programming Language)</td>\n",
       "      <td>1803</td>\n",
       "    </tr>\n",
       "    <tr>\n",
       "      <th>5</th>\n",
       "      <td>Statistics</td>\n",
       "      <td>1614</td>\n",
       "    </tr>\n",
       "    <tr>\n",
       "      <th>6</th>\n",
       "      <td>Communications</td>\n",
       "      <td>1546</td>\n",
       "    </tr>\n",
       "    <tr>\n",
       "      <th>7</th>\n",
       "      <td>Basic Math</td>\n",
       "      <td>1513</td>\n",
       "    </tr>\n",
       "    <tr>\n",
       "      <th>8</th>\n",
       "      <td>Data Analysis</td>\n",
       "      <td>1473</td>\n",
       "    </tr>\n",
       "    <tr>\n",
       "      <th>9</th>\n",
       "      <td>Algorithms</td>\n",
       "      <td>1440</td>\n",
       "    </tr>\n",
       "  </tbody>\n",
       "</table>\n",
       "</div>"
      ],
      "text/plain": [
       "                     skills_name  unique_postings\n",
       "0                   Data Science             3817\n",
       "1  Python (Programming Language)             2849\n",
       "2               Machine Learning             2554\n",
       "3       R (Programming Language)             2204\n",
       "4     SQL (Programming Language)             1803\n",
       "5                     Statistics             1614\n",
       "6                 Communications             1546\n",
       "7                     Basic Math             1513\n",
       "8                  Data Analysis             1473\n",
       "9                     Algorithms             1440"
      ]
     },
     "execution_count": 8,
     "metadata": {},
     "output_type": "execute_result"
    }
   ],
   "source": [
    "payload = {\n",
    "    \"filter\": {\n",
    "        \"when\": \"active\",  # currently active job postings\n",
    "        \"title\": [\"ET3B93055220D592C8\"]  # the unique identifier for the data scientist job title\n",
    "    },\n",
    "    \"rank\": {\n",
    "        \"by\": \"unique_postings\",  # we get the top skills based on the number of times that skill was posted\n",
    "        \"limit\": 10   # limit to the top 10 skills. this list could be long.\n",
    "    }    \n",
    "}\n",
    "\n",
    "df = conn.post_rankings_df(\n",
    "    facet = \"skills_name\",  # we're going to get the top skills\n",
    "    payload = payload,\n",
    "    querystring = {\"title_version\": \"emsi\"}\n",
    ")\n",
    "df"
   ]
  }
 ],
 "metadata": {
  "kernelspec": {
   "display_name": "Python 3",
   "language": "python",
   "name": "python3"
  },
  "language_info": {
   "codemirror_mode": {
    "name": "ipython",
    "version": 3
   },
   "file_extension": ".py",
   "mimetype": "text/x-python",
   "name": "python",
   "nbconvert_exporter": "python",
   "pygments_lexer": "ipython3",
   "version": "3.7.5"
  }
 },
 "nbformat": 4,
 "nbformat_minor": 4
}
