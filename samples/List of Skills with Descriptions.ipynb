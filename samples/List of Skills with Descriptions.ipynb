{
 "cells": [
  {
   "cell_type": "markdown",
   "metadata": {},
   "source": [
    "## Download Skills, Type, and Tags\n",
    "***\n",
    "The purpose of this worksheet is to extract the full list of skills from Emsi's library, as well as provide the type of skill (Hard, Soft, Certification) as well as any relevant link/short description that is tied to a Wikipedia article."
   ]
  },
  {
   "cell_type": "code",
   "execution_count": 1,
   "metadata": {},
   "outputs": [
    {
     "data": {
      "text/plain": [
       "dict_keys(['attributions', 'data'])"
      ]
     },
     "execution_count": 1,
     "metadata": {},
     "output_type": "execute_result"
    }
   ],
   "source": [
    "from EmsiApiPy import SkillsClassificationConnection\n",
    "\n",
    "conn = SkillsClassificationConnection()\n",
    "\n",
    "# download the data\n",
    "all_skills = conn.get_list_all_skills(fields = \"id,name,tags,type\")\n",
    "all_skills.keys()"
   ]
  },
  {
   "cell_type": "code",
   "execution_count": 2,
   "metadata": {},
   "outputs": [
    {
     "data": {
      "text/plain": [
       "[{'name': 'Wikipedia',\n",
       "  'text': 'Wikipedia extracts are distributed under the CC BY-SA license (https://creativecommons.org/licenses/by-sa/3.0/)'}]"
      ]
     },
     "execution_count": 2,
     "metadata": {},
     "output_type": "execute_result"
    }
   ],
   "source": [
    "# Wikipedia attribution\n",
    "all_skills[\"attributions\"]"
   ]
  },
  {
   "cell_type": "code",
   "execution_count": 3,
   "metadata": {},
   "outputs": [
    {
     "data": {
      "text/plain": [
       "30792"
      ]
     },
     "execution_count": 3,
     "metadata": {},
     "output_type": "execute_result"
    }
   ],
   "source": [
    "# we should have over 30k skills\n",
    "len(all_skills[\"data\"])"
   ]
  },
  {
   "cell_type": "code",
   "execution_count": 4,
   "metadata": {},
   "outputs": [
    {
     "data": {
      "text/plain": [
       "{'id': 'KS126XS6CQCFGC3NG79X',\n",
       " 'name': '.NET Assemblies',\n",
       " 'tags': [{'key': 'wikipediaExtract',\n",
       "   'value': '\\nDefined by Microsoft for use in recent versions of Windows, an assembly in the Common Language Infrastructure (CLI) is a compiled code library used for deployment, versioning, and security. There are two types: process assemblies (EXE) and library assemblies (DLL). A process assembly represents a process that will use classes defined in library assemblies. CLI assemblies contain code in CIL, which is usually generated from a CLI language, and then compiled into machine language at run time by the just-in-time compiler. In the .NET Framework implementation, this compiler is part of the Common Language Runtime (CLR).'},\n",
       "  {'key': 'wikipediaUrl',\n",
       "   'value': 'https://en.wikipedia.org/wiki/.NET_assemblies'}],\n",
       " 'type': {'id': 'ST1', 'name': 'Hard Skill'}}"
      ]
     },
     "execution_count": 4,
     "metadata": {},
     "output_type": "execute_result"
    }
   ],
   "source": [
    "# here's what one of them looks like with the Wikipedia info\n",
    "all_skills[\"data\"][1]"
   ]
  },
  {
   "cell_type": "code",
   "execution_count": 5,
   "metadata": {},
   "outputs": [
    {
     "data": {
      "text/html": [
       "<div>\n",
       "<style scoped>\n",
       "    .dataframe tbody tr th:only-of-type {\n",
       "        vertical-align: middle;\n",
       "    }\n",
       "\n",
       "    .dataframe tbody tr th {\n",
       "        vertical-align: top;\n",
       "    }\n",
       "\n",
       "    .dataframe thead th {\n",
       "        text-align: right;\n",
       "    }\n",
       "</style>\n",
       "<table border=\"1\" class=\"dataframe\">\n",
       "  <thead>\n",
       "    <tr style=\"text-align: right;\">\n",
       "      <th></th>\n",
       "      <th>id</th>\n",
       "      <th>name</th>\n",
       "      <th>type</th>\n",
       "      <th>wikipediaExtract</th>\n",
       "      <th>wikipediaUrl</th>\n",
       "    </tr>\n",
       "  </thead>\n",
       "  <tbody>\n",
       "    <tr>\n",
       "      <th>0</th>\n",
       "      <td>KS120P86XDXZJT3B7KVJ</td>\n",
       "      <td>(American Society For Quality) ASQ Certified</td>\n",
       "      <td>Certification</td>\n",
       "      <td>NaN</td>\n",
       "      <td>NaN</td>\n",
       "    </tr>\n",
       "    <tr>\n",
       "      <th>0</th>\n",
       "      <td>KS126XS6CQCFGC3NG79X</td>\n",
       "      <td>.NET Assemblies</td>\n",
       "      <td>Hard Skill</td>\n",
       "      <td>\\nDefined by Microsoft for use in recent versi...</td>\n",
       "      <td>https://en.wikipedia.org/wiki/.NET_assemblies</td>\n",
       "    </tr>\n",
       "    <tr>\n",
       "      <th>0</th>\n",
       "      <td>KS1200B62W5ZF38RJ7TD</td>\n",
       "      <td>.NET Framework</td>\n",
       "      <td>Hard Skill</td>\n",
       "      <td>The .NET Framework is a software framework dev...</td>\n",
       "      <td>https://en.wikipedia.org/wiki/.NET_Framework</td>\n",
       "    </tr>\n",
       "    <tr>\n",
       "      <th>0</th>\n",
       "      <td>KS126XW78QJCF4TRV2X7</td>\n",
       "      <td>.NET Framework 1</td>\n",
       "      <td>Hard Skill</td>\n",
       "      <td>Microsoft started development on the .NET Fram...</td>\n",
       "      <td>https://en.wikipedia.org/wiki/.NET_Framework_1.0</td>\n",
       "    </tr>\n",
       "    <tr>\n",
       "      <th>0</th>\n",
       "      <td>KS126XY68BNKXSBSLPYS</td>\n",
       "      <td>.NET Framework 3</td>\n",
       "      <td>Hard Skill</td>\n",
       "      <td>The .NET Framework is a software framework dev...</td>\n",
       "      <td>https://en.wikipedia.org/wiki/.NET_Framework</td>\n",
       "    </tr>\n",
       "  </tbody>\n",
       "</table>\n",
       "</div>"
      ],
      "text/plain": [
       "                     id                                          name  \\\n",
       "0  KS120P86XDXZJT3B7KVJ  (American Society For Quality) ASQ Certified   \n",
       "0  KS126XS6CQCFGC3NG79X                               .NET Assemblies   \n",
       "0  KS1200B62W5ZF38RJ7TD                                .NET Framework   \n",
       "0  KS126XW78QJCF4TRV2X7                              .NET Framework 1   \n",
       "0  KS126XY68BNKXSBSLPYS                              .NET Framework 3   \n",
       "\n",
       "            type                                   wikipediaExtract  \\\n",
       "0  Certification                                                NaN   \n",
       "0     Hard Skill  \\nDefined by Microsoft for use in recent versi...   \n",
       "0     Hard Skill  The .NET Framework is a software framework dev...   \n",
       "0     Hard Skill  Microsoft started development on the .NET Fram...   \n",
       "0     Hard Skill  The .NET Framework is a software framework dev...   \n",
       "\n",
       "                                       wikipediaUrl  \n",
       "0                                               NaN  \n",
       "0     https://en.wikipedia.org/wiki/.NET_assemblies  \n",
       "0      https://en.wikipedia.org/wiki/.NET_Framework  \n",
       "0  https://en.wikipedia.org/wiki/.NET_Framework_1.0  \n",
       "0      https://en.wikipedia.org/wiki/.NET_Framework  "
      ]
     },
     "execution_count": 5,
     "metadata": {},
     "output_type": "execute_result"
    }
   ],
   "source": [
    "import pandas as pd\n",
    "df = pd.DataFrame()\n",
    "\n",
    "for skill in all_skills[\"data\"]:\n",
    "    temp_df = pd.DataFrame(\n",
    "        {\n",
    "            \"id\": [skill[\"id\"]],\n",
    "            \"name\": [skill[\"name\"]],\n",
    "            \"type\": [skill[\"type\"][\"name\"]]\n",
    "        }\n",
    "    )\n",
    "    \n",
    "    for tag in skill[\"tags\"]:\n",
    "        temp_df[tag[\"key\"]] = tag[\"value\"]\n",
    "    \n",
    "    df = df.append(temp_df)\n",
    "\n",
    "df.head()"
   ]
  },
  {
   "cell_type": "code",
   "execution_count": 6,
   "metadata": {},
   "outputs": [],
   "source": [
    "with pd.ExcelWriter(\"skills_info.xlsx\") as writer:\n",
    "    df.to_excel(writer, \"Data\", index = False)"
   ]
  }
 ],
 "metadata": {
  "kernelspec": {
   "display_name": "Python 3",
   "language": "python",
   "name": "python3"
  },
  "language_info": {
   "codemirror_mode": {
    "name": "ipython",
    "version": 3
   },
   "file_extension": ".py",
   "mimetype": "text/x-python",
   "name": "python",
   "nbconvert_exporter": "python",
   "pygments_lexer": "ipython3",
   "version": "3.7.5"
  }
 },
 "nbformat": 4,
 "nbformat_minor": 4
}
