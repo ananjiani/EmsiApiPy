{
 "cells": [
  {
   "cell_type": "markdown",
   "metadata": {},
   "source": [
    "# Using Emsi's Job Title Normalization API\n",
    "***"
   ]
  },
  {
   "cell_type": "code",
   "execution_count": 1,
   "metadata": {},
   "outputs": [],
   "source": [
    "import json  # for pretty printing\n",
    "\n",
    "# import the library and create the connection\n",
    "from EmsiApiPy import TitlesConnection\n",
    "conn = TitlesConnection()"
   ]
  },
  {
   "cell_type": "code",
   "execution_count": 2,
   "metadata": {},
   "outputs": [
    {
     "name": "stdout",
     "output_type": "stream",
     "text": [
      "{\n",
      "  \"confidence\": 1.0,\n",
      "  \"title\": {\n",
      "    \"id\": \"ETCC677E49FBA73537\",\n",
      "    \"name\": \"Java Developer\",\n",
      "    \"mapping\": {\n",
      "      \"skills\": [\n",
      "        {\n",
      "          \"id\": \"KS120076FGP5WGWYMP0F\",\n",
      "          \"name\": \"Java (Programming Language)\"\n",
      "        }\n",
      "      ],\n",
      "      \"socs\": [\n",
      "        {\n",
      "          \"id\": \"15-1256\",\n",
      "          \"name\": \"Software Developers and Software Quality Assurance Analysts and Testers\"\n",
      "        },\n",
      "        {\n",
      "          \"id\": \"15-1257\",\n",
      "          \"name\": \"Web Developers and Digital Interface Designers\"\n",
      "        }\n",
      "      ]\n",
      "    }\n",
      "  }\n",
      "}\n"
     ]
    }
   ],
   "source": [
    "# we'll normalize a java developer job title for this example\n",
    "# we'll get the emsi normalized title as well as the mapping to the \n",
    "response = conn.post_normalize_title(\"java developer\", fields=['id', 'name', 'mapping'])\n",
    "# print the result from the API\n",
    "print(json.dumps(response, indent=2))"
   ]
  },
  {
   "cell_type": "code",
   "execution_count": 3,
   "metadata": {},
   "outputs": [
    {
     "name": "stdout",
     "output_type": "stream",
     "text": [
      "[\n",
      "  {\n",
      "    \"confidence\": 1.0,\n",
      "    \"title\": {\n",
      "      \"id\": \"ETCC677E49FBA73537\",\n",
      "      \"name\": \"Java Developer\",\n",
      "      \"mapping\": {\n",
      "        \"skills\": [\n",
      "          {\n",
      "            \"id\": \"KS120076FGP5WGWYMP0F\",\n",
      "            \"name\": \"Java (Programming Language)\"\n",
      "          }\n",
      "        ],\n",
      "        \"socs\": [\n",
      "          {\n",
      "            \"id\": \"15-1256\",\n",
      "            \"name\": \"Software Developers and Software Quality Assurance Analysts and Testers\"\n",
      "          },\n",
      "          {\n",
      "            \"id\": \"15-1257\",\n",
      "            \"name\": \"Web Developers and Digital Interface Designers\"\n",
      "          }\n",
      "        ]\n",
      "      }\n",
      "    }\n",
      "  },\n",
      "  {\n",
      "    \"confidence\": 0.8762708902359009,\n",
      "    \"title\": {\n",
      "      \"id\": \"ET578A0016797D9635\",\n",
      "      \"name\": \"Java Developer Analyst\",\n",
      "      \"mapping\": {\n",
      "        \"skills\": [\n",
      "          {\n",
      "            \"id\": \"KS120076FGP5WGWYMP0F\",\n",
      "            \"name\": \"Java (Programming Language)\"\n",
      "          }\n",
      "        ],\n",
      "        \"socs\": [\n",
      "          {\n",
      "            \"id\": \"15-1211\",\n",
      "            \"name\": \"Computer Systems Analysts\"\n",
      "          },\n",
      "          {\n",
      "            \"id\": \"15-1257\",\n",
      "            \"name\": \"Web Developers and Digital Interface Designers\"\n",
      "          }\n",
      "        ]\n",
      "      }\n",
      "    }\n",
      "  }\n",
      "]\n"
     ]
    }
   ],
   "source": [
    "# the Titles API can also respond with multiple different match options\n",
    "response = conn.post_inspect_title_normalization(\n",
    "    \"java developer\",\n",
    "    fields = ['id', 'name', 'mapping'],\n",
    "    limit = 2\n",
    ")\n",
    "print(json.dumps(response, indent=2))"
   ]
  },
  {
   "cell_type": "markdown",
   "metadata": {},
   "source": [
    "***\n",
    "As you can see, the query of `java developer` most clearly maps to `Java Developer` (no real surprise). However, if we look at the Occupation (SOC) codes and Skills associated with the title, we see that the occupation codes are different, while the \"Java\" skill is shared."
   ]
  }
 ],
 "metadata": {
  "kernelspec": {
   "display_name": "Python 3",
   "language": "python",
   "name": "python3"
  },
  "language_info": {
   "codemirror_mode": {
    "name": "ipython",
    "version": 3
   },
   "file_extension": ".py",
   "mimetype": "text/x-python",
   "name": "python",
   "nbconvert_exporter": "python",
   "pygments_lexer": "ipython3",
   "version": "3.7.5"
  }
 },
 "nbformat": 4,
 "nbformat_minor": 4
}
