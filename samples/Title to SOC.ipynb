{
 "cells": [
  {
   "cell_type": "markdown",
   "metadata": {},
   "source": [
    "# Title to SOC Mapping\n",
    "***\n",
    "The goal of this sample is to demonstrate a simple method for taking a job title, matching it to Emsi's job title library, then getting an appropriate SOC code that fits."
   ]
  },
  {
   "cell_type": "code",
   "execution_count": 1,
   "metadata": {},
   "outputs": [],
   "source": [
    "# import and create the connection\n",
    "import json\n",
    "import EmsiApiPy\n",
    "conn = EmsiApiPy.UnitedStatesPostingsConnection()"
   ]
  },
  {
   "cell_type": "code",
   "execution_count": 2,
   "metadata": {},
   "outputs": [
    {
     "name": "stdout",
     "output_type": "stream",
     "text": [
      "[\n",
      "    {\n",
      "        \"id\": \"ET3B93055220D592C8\",\n",
      "        \"name\": \"Data Scientists\",\n",
      "        \"properties\": {\n",
      "            \"singular_name\": \"Data Scientist\",\n",
      "            \"unique_postings\": 121043\n",
      "        },\n",
      "        \"score\": 6205.621\n",
      "    },\n",
      "    {\n",
      "        \"id\": \"ET5F758027D5A9C1D1\",\n",
      "        \"name\": \"Principal Data Scientists\",\n",
      "        \"properties\": {\n",
      "            \"singular_name\": \"Principal Data Scientist\",\n",
      "            \"unique_postings\": 8057\n",
      "        },\n",
      "        \"score\": 137.40694\n",
      "    },\n",
      "    {\n",
      "        \"id\": \"ETB15B6675998124CE\",\n",
      "        \"name\": \"Lead Data Scientists\",\n",
      "        \"properties\": {\n",
      "            \"singular_name\": \"Lead Data Scientist\",\n",
      "            \"unique_postings\": 7254\n",
      "        },\n",
      "        \"score\": 135.97774\n",
      "    }\n",
      "]\n"
     ]
    }
   ],
   "source": [
    "# given a raw title (Data Scientist in this example), map this to Emsi's Job Title Library\n",
    "querystring = {\n",
    "    \"title_version\": \"emsi\",  # specify the Emsi job title library (more comprehensive)\n",
    "    \"limit\": 3   # we're just going to limit to 3 results for the sake of this example\n",
    "}\n",
    "\n",
    "data = conn.get_taxonomies(\n",
    "    facet = \"title\",\n",
    "    q = \"Data Scientists\",  # this is the raw input\n",
    "    querystring = querystring\n",
    ")\n",
    "print(json.dumps(data, indent=4))"
   ]
  },
  {
   "cell_type": "markdown",
   "metadata": {},
   "source": [
    "We can see from the results from the API that the first record is the best match (and it should typically be the best match). We will use that title to get the top SOC code for Budget Analysts."
   ]
  },
  {
   "cell_type": "code",
   "execution_count": 3,
   "metadata": {},
   "outputs": [
    {
     "data": {
      "text/html": [
       "<div>\n",
       "<style scoped>\n",
       "    .dataframe tbody tr th:only-of-type {\n",
       "        vertical-align: middle;\n",
       "    }\n",
       "\n",
       "    .dataframe tbody tr th {\n",
       "        vertical-align: top;\n",
       "    }\n",
       "\n",
       "    .dataframe thead th {\n",
       "        text-align: right;\n",
       "    }\n",
       "</style>\n",
       "<table border=\"1\" class=\"dataframe\">\n",
       "  <thead>\n",
       "    <tr style=\"text-align: right;\">\n",
       "      <th></th>\n",
       "      <th>soc5_name</th>\n",
       "      <th>unique_postings</th>\n",
       "    </tr>\n",
       "  </thead>\n",
       "  <tbody>\n",
       "    <tr>\n",
       "      <th>0</th>\n",
       "      <td>Computer and Information Research Scientists</td>\n",
       "      <td>4633</td>\n",
       "    </tr>\n",
       "    <tr>\n",
       "      <th>1</th>\n",
       "      <td>Market Research Analysts and Marketing Special...</td>\n",
       "      <td>305</td>\n",
       "    </tr>\n",
       "    <tr>\n",
       "      <th>2</th>\n",
       "      <td>Medical Scientists, Except Epidemiologists</td>\n",
       "      <td>236</td>\n",
       "    </tr>\n",
       "    <tr>\n",
       "      <th>3</th>\n",
       "      <td>Management Analysts</td>\n",
       "      <td>132</td>\n",
       "    </tr>\n",
       "    <tr>\n",
       "      <th>4</th>\n",
       "      <td>Unclassified Occupation</td>\n",
       "      <td>102</td>\n",
       "    </tr>\n",
       "  </tbody>\n",
       "</table>\n",
       "</div>"
      ],
      "text/plain": [
       "                                           soc5_name  unique_postings\n",
       "0       Computer and Information Research Scientists             4633\n",
       "1  Market Research Analysts and Marketing Special...              305\n",
       "2         Medical Scientists, Except Epidemiologists              236\n",
       "3                                Management Analysts              132\n",
       "4                            Unclassified Occupation              102"
      ]
     },
     "execution_count": 3,
     "metadata": {},
     "output_type": "execute_result"
    }
   ],
   "source": [
    "emsi_title_id = data[0][\"id\"]\n",
    "\n",
    "# once again, specify that we want to use the Emsi title library\n",
    "querystring = {\"title_version\": \"emsi\"}\n",
    "\n",
    "payload = {\n",
    "  \"filter\": {\n",
    "    \"when\": \"active\",  # only look at the active postings for this example\n",
    "    \"title\": [emsi_title_id]  # limit to job postings with this emsi title\n",
    "  },\n",
    "  \"rank\": {\n",
    "    \"by\": \"unique_postings\",\n",
    "    \"limit\": 5  # limit to the top 5 occupation results\n",
    "  }\n",
    "}\n",
    "\n",
    "df = conn.post_rankings_df(\n",
    "    facet = \"soc5_name\",  # we'll get the results based on the name, since that is more readable\n",
    "    querystring = querystring,\n",
    "    payload = payload\n",
    ")\n",
    "df.head()"
   ]
  },
  {
   "cell_type": "markdown",
   "metadata": {},
   "source": [
    "From these results, we can see that typicaly Data Scientists map to \"Computer and Information Research Scientists ([SOC 15-1221](https://www.bls.gov/oes/current/oes151221.htm))\""
   ]
  }
 ],
 "metadata": {
  "kernelspec": {
   "display_name": "Python 3",
   "language": "python",
   "name": "python3"
  },
  "language_info": {
   "codemirror_mode": {
    "name": "ipython",
    "version": 3
   },
   "file_extension": ".py",
   "mimetype": "text/x-python",
   "name": "python",
   "nbconvert_exporter": "python",
   "pygments_lexer": "ipython3",
   "version": "3.7.5"
  }
 },
 "nbformat": 4,
 "nbformat_minor": 4
}
